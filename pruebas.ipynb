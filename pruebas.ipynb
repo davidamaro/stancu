{
 "cells": [
  {
   "cell_type": "code",
   "execution_count": 1,
   "metadata": {
    "collapsed": false
   },
   "outputs": [],
   "source": [
    "include(\"representaciones.jl\")\n",
    "\n",
    "using RE"
   ]
  },
  {
   "cell_type": "code",
   "execution_count": 8,
   "metadata": {
    "collapsed": false
   },
   "outputs": [
    {
     "data": {
      "text/plain": [
       "8x8 Array{Float64,2}:\n",
       " 1.0  0.0  0.0  0.0  0.0  0.0  0.0  0.0\n",
       " 0.0  1.0  0.0  0.0  0.0  0.0  0.0  0.0\n",
       " 0.0  0.0  1.0  0.0  0.0  0.0  0.0  0.0\n",
       " 0.0  0.0  0.0  1.0  0.0  0.0  0.0  0.0\n",
       " 0.0  0.0  0.0  0.0  1.0  0.0  0.0  0.0\n",
       " 0.0  0.0  0.0  0.0  0.0  0.0  1.0  0.0\n",
       " 0.0  0.0  0.0  0.0  0.0  1.0  0.0  0.0\n",
       " 0.0  0.0  0.0  0.0  0.0  0.0  0.0  1.0"
      ]
     },
     "execution_count": 8,
     "metadata": {},
     "output_type": "execute_result"
    }
   ],
   "source": [
    "representacion(3,8)"
   ]
  },
  {
   "cell_type": "code",
   "execution_count": 2,
   "metadata": {
    "collapsed": false
   },
   "outputs": [
    {
     "name": "stdout",
     "output_type": "stream",
     "text": [
      "demas = [[0.5773502691896258,0.5773502691896258,0.5773502691896258],[0.8164965809277261,-0.4082482904638631,-0.4082482904638631],[-0.4082482904638631,0.8164965809277261,-0.4082482904638631]]\n"
     ]
    },
    {
     "data": {
      "text/plain": [
       "3x3 Array{Float64,2}:\n",
       " 1.0   0.0   0.0\n",
       " 0.0   1.0  -0.5\n",
       " 0.0  -0.5   1.0"
      ]
     },
     "execution_count": 2,
     "metadata": {},
     "output_type": "execute_result"
    }
   ],
   "source": [
    "protoBloque(3,1)"
   ]
  },
  {
   "cell_type": "code",
   "execution_count": null,
   "metadata": {
    "collapsed": true
   },
   "outputs": [],
   "source": [
    "function protoBloque(dim, rep)\n",
    "    nuevaBase = ortogonal(dim)\n",
    "    resultado = aplicacionTotal(nuevaBase)\n",
    "    representacion = [x[rep] for x in resultado]\n",
    "    matriz(nuevaBase, representacion)\n",
    "end"
   ]
  },
  {
   "cell_type": "code",
   "execution_count": 3,
   "metadata": {
    "collapsed": false
   },
   "outputs": [
    {
     "name": "stdout",
     "output_type": "stream",
     "text": [
      "search: zeros spzeros nonzeros count_zeros set_zero_subnormals\n",
      "\n"
     ]
    },
    {
     "data": {
      "text/latex": [
       "\\begin{verbatim}\n",
       "zeros(type, dims)\n",
       "\\end{verbatim}\n",
       "Create an array of all zeros of specified type. The type defaults to Float64 if not specified.\n",
       "\\begin{verbatim}\n",
       "zeros(A)\n",
       "\\end{verbatim}\n",
       "Create an array of all zeros with the same element type and shape as \\texttt{A}.\n"
      ],
      "text/markdown": [
       "```\n",
       "zeros(type, dims)\n",
       "```\n",
       "\n",
       "Create an array of all zeros of specified type. The type defaults to Float64 if not specified.\n",
       "\n",
       "```\n",
       "zeros(A)\n",
       "```\n",
       "\n",
       "Create an array of all zeros with the same element type and shape as `A`.\n"
      ],
      "text/plain": [
       "```\n",
       "zeros(type, dims)\n",
       "```\n",
       "\n",
       "Create an array of all zeros of specified type. The type defaults to Float64 if not specified.\n",
       "\n",
       "```\n",
       "zeros(A)\n",
       "```\n",
       "\n",
       "Create an array of all zeros with the same element type and shape as `A`.\n"
      ]
     },
     "execution_count": 3,
     "metadata": {},
     "output_type": "execute_result"
    }
   ],
   "source": [
    "?zeros"
   ]
  },
  {
   "cell_type": "code",
   "execution_count": 4,
   "metadata": {
    "collapsed": false
   },
   "outputs": [
    {
     "data": {
      "text/plain": [
       "3x3 Array{Float64,2}:\n",
       " 0.0  0.0  0.0\n",
       " 0.0  0.0  0.0\n",
       " 0.0  0.0  0.0"
      ]
     },
     "execution_count": 4,
     "metadata": {},
     "output_type": "execute_result"
    }
   ],
   "source": [
    "zeros(Float64,3,3)"
   ]
  },
  {
   "cell_type": "code",
   "execution_count": 7,
   "metadata": {
    "collapsed": false
   },
   "outputs": [
    {
     "data": {
      "text/plain": [
       "matvec (generic function with 1 method)"
      ]
     },
     "execution_count": 7,
     "metadata": {},
     "output_type": "execute_result"
    }
   ],
   "source": [
    "function matvec(dim)\n",
    "    res = zeros(Float64,dim,dim)\n",
    "    vector = ones(dim)\n",
    "    for i in 1:dim\n",
    "        res[1,i] = vector[i]/norm(vector)\n",
    "    end\n",
    "    for i in 2:dim # dim -1\n",
    "        vector = -vector\n",
    "        vector[i] = dim - 1\n",
    "        for j in 1:dim\n",
    "            res[i,j] = vector[j]/norm(vector)\n",
    "        end\n",
    "        vector = ones(dim)\n",
    "    end\n",
    "    res\n",
    "end"
   ]
  },
  {
   "cell_type": "code",
   "execution_count": 8,
   "metadata": {
    "collapsed": false
   },
   "outputs": [
    {
     "data": {
      "text/plain": [
       "3x3 Array{Float64,2}:\n",
       "  0.57735    0.57735    0.57735 \n",
       " -0.408248   0.816497  -0.408248\n",
       " -0.408248  -0.408248   0.816497"
      ]
     },
     "execution_count": 8,
     "metadata": {},
     "output_type": "execute_result"
    }
   ],
   "source": [
    "matvec(3)"
   ]
  },
  {
   "cell_type": "code",
   "execution_count": 9,
   "metadata": {
    "collapsed": false
   },
   "outputs": [
    {
     "data": {
      "text/plain": [
       "3x3 Array{Float64,2}:\n",
       "  1.0          5.55112e-17  1.11022e-16\n",
       " -1.51082e-17  1.0          3.02164e-17\n",
       "  0.0          5.55112e-17  1.0        "
      ]
     },
     "execution_count": 9,
     "metadata": {},
     "output_type": "execute_result"
    }
   ],
   "source": [
    "inv(matvec(3))*representacion(1,3)*matvec(3)"
   ]
  },
  {
   "cell_type": "code",
   "execution_count": null,
   "metadata": {
    "collapsed": true
   },
   "outputs": [],
   "source": []
  }
 ],
 "metadata": {
  "kernelspec": {
   "display_name": "Julia 0.4.5",
   "language": "julia",
   "name": "julia-0.4"
  },
  "language_info": {
   "file_extension": ".jl",
   "mimetype": "application/julia",
   "name": "julia",
   "version": "0.4.5"
  }
 },
 "nbformat": 4,
 "nbformat_minor": 0
}
